{
 "cells": [
  {
   "cell_type": "code",
   "execution_count": 1,
   "metadata": {},
   "outputs": [
    {
     "name": "stdout",
     "output_type": "stream",
     "text": [
      "{u'A': 5, u'b': 10}\n",
      "the value of $needs_latex is:\n",
      "{u'A': 5, u'b': 10}\n",
      "the value of $needs_latex is:\n",
      "{u'A': 5, u'C': 20.0, u'b': 10}\n"
     ]
    }
   ],
   "source": [
    "\n",
    "import psgv\n",
    "import os\n",
    "import time\n",
    "\n",
    "A = psgv.psgv('need')\n",
    "\n",
    "A.key = 'needs_latex'\n",
    "A.val = {\"A\": 5, \"b\": 10}\n",
    "\n",
    "processed = A.val\n",
    "print processed\n",
    "\n",
    "print (\"the value of $needs_latex is:\")\n",
    "os.system(r\"echo $needs_latex\")\n",
    "print A.val\n",
    "\n",
    "A.val[\"C\"] = 20.0\n",
    "\n",
    "print (\"the value of $needs_latex is:\")\n",
    "os.system(r\"echo $needs_latex\")\n",
    "print A.val"
   ]
  },
  {
   "cell_type": "code",
   "execution_count": 2,
   "metadata": {
    "scrolled": true
   },
   "outputs": [
    {
     "name": "stdout",
     "output_type": "stream",
     "text": [
      "{u'A': 5, u'C': 20.0, u'b': 10}\n"
     ]
    }
   ],
   "source": [
    "print A.val"
   ]
  },
  {
   "cell_type": "code",
   "execution_count": 3,
   "metadata": {},
   "outputs": [
    {
     "name": "stdout",
     "output_type": "stream",
     "text": [
      "False\n"
     ]
    }
   ],
   "source": [
    "C = psgv.psgv('__needs_latex__')\n",
    "#C.key = '__needs_latex__'\n",
    "C.val = False"
   ]
  },
  {
   "cell_type": "code",
   "execution_count": 4,
   "metadata": {},
   "outputs": [
    {
     "name": "stdout",
     "output_type": "stream",
     "text": [
      "False\n"
     ]
    }
   ],
   "source": [
    "print C.val"
   ]
  },
  {
   "cell_type": "code",
   "execution_count": 5,
   "metadata": {},
   "outputs": [
    {
     "name": "stdout",
     "output_type": "stream",
     "text": [
      "something\n"
     ]
    }
   ],
   "source": [
    "if not C.val:\n",
    "    print \"something\""
   ]
  },
  {
   "cell_type": "code",
   "execution_count": 27,
   "metadata": {},
   "outputs": [
    {
     "name": "stdout",
     "output_type": "stream",
     "text": [
      "[1]\n",
      "[1, 2, 3]\n",
      "[3, 2, 3]\n",
      "[3, 2, 3, u'1']\n",
      "[3, 2, 3, u'1', u'1', u'2', u'3', u'4']\n"
     ]
    }
   ],
   "source": [
    "%autoreload 2\n",
    "D = psgv.psgv('somelist')\n",
    "D.val = [1]\n",
    "print D.val\n",
    "D.val = D.val + [2] + 3\n",
    "print D.val\n",
    "D.val[0] = 3\n",
    "print D.val\n",
    "D.val.extend(['1'])\n",
    "print D.val\n",
    "D.val.extend('1', '2', ['3', '4'])\n",
    "print D.val"
   ]
  },
  {
   "cell_type": "code",
   "execution_count": null,
   "metadata": {
    "collapsed": true
   },
   "outputs": [],
   "source": []
  }
 ],
 "metadata": {
  "hide_input": false,
  "kernelspec": {
   "display_name": "Python 2",
   "language": "python",
   "name": "python2"
  },
  "language_info": {
   "codemirror_mode": {
    "name": "ipython",
    "version": 2
   },
   "file_extension": ".py",
   "mimetype": "text/x-python",
   "name": "python",
   "nbconvert_exporter": "python",
   "pygments_lexer": "ipython2",
   "version": "2.7.12"
  },
  "latex_envs": {
   "LaTeX_envs_menu_present": true,
   "autocomplete": true,
   "bibliofile": "bibs/dissertation.bib",
   "cite_by": "apalike",
   "current_citInitial": 1,
   "eqLabelWithNumbers": true,
   "eqNumInitial": 1,
   "hotkeys": {
    "equation": "Ctrl-E",
    "itemize": "Ctrl-I"
   },
   "labels_anchors": false,
   "latex_user_defs": false,
   "report_style_numbering": false,
   "user_envs_cfg": false
  }
 },
 "nbformat": 4,
 "nbformat_minor": 2
}
